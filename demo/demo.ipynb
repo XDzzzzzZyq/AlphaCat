{
  "cells": [
    {
      "cell_type": "markdown",
      "metadata": {
        "colab_type": "text",
        "id": "view-in-github"
      },
      "source": [
        "<a href=\"https://colab.research.google.com/github/XDzzzzzZyq/AlphaCat/blob/main/demo/demo.ipynb\" target=\"_parent\"><img src=\"https://colab.research.google.com/assets/colab-badge.svg\" alt=\"Open In Colab\"/></a>"
      ]
    },
    {
      "attachments": {},
      "cell_type": "markdown",
      "metadata": {},
      "source": [
        "## basic compete"
      ]
    },
    {
      "cell_type": "code",
      "execution_count": 1,
      "metadata": {
        "id": "YwMI-QbeHioo"
      },
      "outputs": [
        {
          "data": {
            "text/plain": [
              "<BarContainer object of 3 artists>"
            ]
          },
          "execution_count": 1,
          "metadata": {},
          "output_type": "execute_result"
        },
        {
          "data": {
            "image/png": "[encoded data removed]",
            "text/plain": [
              "<Figure size 640x480 with 1 Axes>"
            ]
          },
          "metadata": {},
          "output_type": "display_data"
        }
      ],
      "source": [
        "from AlphaCat import Game\n",
        "from AlphaCat import DAI\n",
        "\n",
        "import numpy as np\n",
        "import pandas as pd\n",
        "import matplotlib.pyplot as plt\n",
        "\n",
        "game = Game.Game()\n",
        "ai1 = DAI.DumbAI(Game.X, game)\n",
        "ai2 = DAI.DumbAI(Game.O, game)\n",
        "\n",
        "res = {\"ai1\":0, \"ai2\":0, \"draw\":0}\n",
        "\n",
        "round_count = 0;\n",
        "while round_count<50:\n",
        "    game = Game.Game()\n",
        "    ai1 = DAI.DumbAI(Game.X, game)\n",
        "    ai2 = DAI.DumbAI(Game.O, game)\n",
        "    while True:\n",
        "\n",
        "        ai1.move()\n",
        "        if game.check_win(ai1.char):\n",
        "            res[\"ai1\"]+=1\n",
        "            break\n",
        "        if len(game.get_avail_moves()) == 0:\n",
        "            res[\"draw\"]+=1\n",
        "            break\n",
        "\n",
        "        ai2.move()\n",
        "        if game.check_win(ai2.char):\n",
        "            res[\"ai2\"]+=1\n",
        "            break\n",
        "        if len(game.get_avail_moves()) == 0:\n",
        "            res[\"draw\"]+=1\n",
        "            break\n",
        "\n",
        "    round_count+=1\n",
        "\n",
        "plt.bar(res.keys(), res.values())"
      ]
    }
  ],
  "metadata": {
    "colab": {
      "include_colab_link": true,
      "provenance": []
    },
    "kernelspec": {
      "display_name": "Python 3",
      "language": "python",
      "name": "python3"
    },
    "language_info": {
      "codemirror_mode": {
        "name": "ipython",
        "version": 3
      },
      "file_extension": ".py",
      "mimetype": "text/x-python",
      "name": "python",
      "nbconvert_exporter": "python",
      "pygments_lexer": "ipython3",
      "version": "3.10.4"
    },
    "vscode": {
      "interpreter": {
        "hash": "3ad933181bd8a04b432d3370b9dc3b0662ad032c4dfaa4e4f1596c548f763858"
      }
    }
  },
  "nbformat": 4,
  "nbformat_minor": 0
}
