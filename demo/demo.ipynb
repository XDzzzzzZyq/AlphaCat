{
  "cells": [
    {
      "cell_type": "markdown",
      "metadata": {
        "id": "view-in-github",
        "colab_type": "text"
      },
      "source": [
        "<a href=\"https://colab.research.google.com/github/XDzzzzzZyq/AlphaCat/blob/main/demo/demo.ipynb\" target=\"_parent\"><img src=\"https://colab.research.google.com/assets/colab-badge.svg\" alt=\"Open In Colab\"/></a>"
      ]
    },
    {
      "cell_type": "code",
      "execution_count": 2,
      "metadata": {
        "id": "v-3jXdmYBSdJ"
      },
      "outputs": [],
      "source": [
        "import numpy as np\n",
        "import pandas as pd"
      ]
    },
    {
      "cell_type": "code",
      "execution_count": null,
      "metadata": {
        "colab": {
          "base_uri": "https://localhost:8080/"
        },
        "id": "tqRSfcLJBSdM",
        "outputId": "5b4f0bbd-8f44-4381-9588-0f6923cc2621"
      },
      "outputs": [
        {
          "output_type": "stream",
          "name": "stdout",
          "text": [
            "[16  5 10 14 11  8  8 12 17  5  5  2 16 12  8  4  6 16  8  5  5  1 10 13\n",
            " 10 10 12 17 15 11  2 14  5  3  6 18 19 11 18 12 18  2 10 10  4  4 19 13\n",
            "  8  7 12 17 17 14 16  1 15 10 13 12 15  5 17 17  3  6  1 16  7  9 17 12\n",
            " 11  4 19  7  1  7 11 12 19 16  1 10 14 17  4  8  2  5 11  6 19  8  7 15\n",
            "  6  8 17 17]\n"
          ]
        }
      ],
      "source": [
        "a = np.random.randint(1, 20, 100)\n",
        "print(a)"
      ]
    },
    {
      "cell_type": "code",
      "source": [
        "x=np.random.random((5,5))\n",
        "print(x)"
      ],
      "metadata": {
        "id": "9GW7a60wHddz",
        "outputId": "293efa52-fd1f-4f27-e6d1-42647e38ac8b",
        "colab": {
          "base_uri": "https://localhost:8080/"
        }
      },
      "execution_count": 4,
      "outputs": [
        {
          "output_type": "stream",
          "name": "stdout",
          "text": [
            "[[0.84581122 0.0047413  0.53738309 0.07586965 0.52154375]\n",
            " [0.40895055 0.15088068 0.00994345 0.7546082  0.3419517 ]\n",
            " [0.60410517 0.01536835 0.67480222 0.7686074  0.80330406]\n",
            " [0.03822001 0.2743313  0.15086707 0.96757708 0.02951709]\n",
            " [0.32718374 0.0137274  0.81533735 0.53516503 0.78346527]]\n"
          ]
        }
      ]
    },
    {
      "cell_type": "code",
      "source": [],
      "metadata": {
        "id": "YwMI-QbeHioo"
      },
      "execution_count": null,
      "outputs": []
    }
  ],
  "metadata": {
    "kernelspec": {
      "display_name": "Python 3",
      "language": "python",
      "name": "python3"
    },
    "language_info": {
      "codemirror_mode": {
        "name": "ipython",
        "version": 3
      },
      "file_extension": ".py",
      "mimetype": "text/x-python",
      "name": "python",
      "nbconvert_exporter": "python",
      "pygments_lexer": "ipython3",
      "version": "3.6.9"
    },
    "colab": {
      "provenance": [],
      "include_colab_link": true
    }
  },
  "nbformat": 4,
  "nbformat_minor": 0
}