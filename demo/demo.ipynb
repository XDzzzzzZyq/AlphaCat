{
  "cells": [
    {
      "cell_type": "markdown",
      "metadata": {
        "colab_type": "text",
        "id": "view-in-github"
      },
      "source": [
        "<a href=\"https://colab.research.google.com/github/XDzzzzzZyq/AlphaCat/blob/main/demo/demo.ipynb\" target=\"_parent\"><img src=\"https://colab.research.google.com/assets/colab-badge.svg\" alt=\"Open In Colab\"/></a>"
      ]
    },
    {
      "attachments": {},
      "cell_type": "markdown",
      "metadata": {},
      "source": [
        "## basic compete"
      ]
    },
    {
      "cell_type": "code",
      "execution_count": 1,
      "metadata": {
        "id": "YwMI-QbeHioo"
      },
      "outputs": [
        {
          "data": {
            "text/plain": [
              "<BarContainer object of 3 artists>"
            ]
          },
          "execution_count": 1,
          "metadata": {},
          "output_type": "execute_result"
        },
        {
          "data": {
            "image/png": "[encoded data removed]",
            "text/plain": [
              "<Figure size 432x288 with 1 Axes>"
            ]
          },
          "metadata": {
            "needs_background": "light"
          },
          "output_type": "display_data"
        }
      ],
      "source": [
        "from AlphaCat import Game\n",
        "from AlphaCat import DAI\n",
        "import matplotlib.pyplot as plt\n",
        "\n",
        "res = {\"ai1\":0, \"ai2\":0, \"draw\":0}\n",
        "\n",
        "round_count = 0\n",
        "game = Game.Game(3, 3)\n",
        "ai1 = DAI.DumbAI(Game.X, game)\n",
        "ai2 = DAI.DumbAI(Game.O, game)\n",
        "while round_count<50:\n",
        "    game.reset()\n",
        "    while True:\n",
        "        if ai1.move():\n",
        "            res[\"ai1\"] += 1\n",
        "            break\n",
        "        if not game.get_avail_moves():\n",
        "            res[\"draw\"] += 1\n",
        "            break\n",
        "\n",
        "        if ai2.move():\n",
        "            res[\"ai2\"] += 1\n",
        "            break\n",
        "        if not game.get_avail_moves():\n",
        "            res[\"draw\"] += 1\n",
        "            break\n",
        "\n",
        "    round_count += 1\n",
        "\n",
        "plt.bar(res.keys(), res.values())"
      ]
    }
  ],
  "metadata": {
    "colab": {
      "include_colab_link": true,
      "provenance": []
    },
    "kernelspec": {
      "display_name": "base",
      "language": "python",
      "name": "python3"
    },
    "language_info": {
      "codemirror_mode": {
        "name": "ipython",
        "version": 3
      },
      "file_extension": ".py",
      "mimetype": "text/x-python",
      "name": "python",
      "nbconvert_exporter": "python",
      "pygments_lexer": "ipython3",
      "version": "3.9.7"
    },
    "vscode": {
      "interpreter": {
        "hash": "3725119e1c555242cc5e1a9e09bd5d2e714307430862257245be8ecefe16502e"
      }
    }
  },
  "nbformat": 4,
  "nbformat_minor": 0
}
